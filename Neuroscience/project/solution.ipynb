{
  "nbformat": 4,
  "nbformat_minor": 0,
  "metadata": {
    "colab": {
      "provenance": []
    },
    "kernelspec": {
      "name": "python3",
      "display_name": "Python 3"
    },
    "language_info": {
      "name": "python"
    }
  },
  "cells": [
    {
      "cell_type": "markdown",
      "source": [
        "# Neurosciense project\n",
        "## Name  : Zahra Soukhtedel\n",
        "## Student Id : 98105138"
      ],
      "metadata": {
        "id": "-PwMBpD-Zdqn"
      }
    },
    {
      "cell_type": "markdown",
      "source": [
        "## Q1.\n",
        "#### **Describe the experiment in detail. In particular, how are each of the P, S, W, M, and Pv tasks implemented and how is the response from the participants in each plan?**\n",
        "> + The experiment consisted of 7 sessions, with each session consisting of various types of series, including P, S, W, M, and Pv. The P series involved pre-set motor acts without vetoing the movement, while the Pv series involved pre-set motor acts with vetoing the movement. The S series involved skin stimuli at unknown times. The W series involved the participant reporting the time of their conscious awareness of their intention to move, while the M series involved the participant making a spontaneous movement without pre-planning. In each trial, the participant was seated in a medical armchair and a wooden board was placed on the chair's armrests. The participant was instructed to make a response using a computer mouse or by reporting the time of their conscious awareness of their intention to move.\n",
        "+ A mode refers to the absolute mode of recall, where the participant reports the time of their conscious awareness of their intention to move relative to the start of the trial. O mode refers to the order mode of recall, where the participant reports the time of their conscious awareness of their intention to move relative to the previous trial\n",
        "\n",
        "\n",
        "> **The experiment in detail is as follows:**\n",
        "+ The participants were asked to perform five tasks: P, S, W, M, and Pv.\n",
        "+ **Task P** involved pressing a button with the right index finger whenever they felt like it and reporting the position of a rotating spot on a clock face at the moment of their decision to press the button.\n",
        "+ **Task S** involved pressing a button with the right index finger in response to a skin stimulus on the left hand and reporting the position of the rotating spot at the moment of their decision to press the button.\n",
        "+ **Task W** involved pressing a button with the right index finger whenever they felt like it and reporting the position of the rotating spot at the moment of their awareness of wanting to press the button.\n",
        "+ **Task M** involved pressing a button with the right index finger whenever they felt like it and reporting the position of the rotating spot at the moment of their awareness of moving their finger.\n",
        "+ **Task Pv** involved pressing a button with the right index finger whenever they felt like it and reporting the position of the rotating spot at a random time after their movement.\n",
        "+ The response from the participants in each task was recorded by an EEG device that measured their brain activity (readiness potential) and an EMG device that measured their muscle activity (movement onset).\n",
        "\n",
        "\n",
        "> **The meaning of A and O modes is as follows:**\n",
        "+ **A mode** stands for active mode, where the participants were instructed to actively look at the rotating spot and report its position as accurately as possible.\n",
        "+ **O mode** stands for passive mode, where the participants were instructed to passively observe the rotating spot and report its position without trying to be precise."
      ],
      "metadata": {
        "id": "KAvmUhH7Z2Ch"
      }
    },
    {
      "cell_type": "markdown",
      "source": [
        "## Q2.\n",
        "#### **Briefly point out what was Libet's goal in designing task S?**\n",
        "\n",
        "> **Libet’s goal in designing task S was as follows:**\n",
        "+ Libet's goal in designing task S was to provide feedback to participants on how close their introspective reports were to the times of actual stimuli. This was intended to train participants to give accurate introspective reports.\n",
        "+ Libet wanted to test whether there was a difference between voluntary and involuntary actions in terms of their timing and neural correlates.\n",
        "+ He hypothesized that involuntary actions (triggered by an external stimulus) would have a shorter latency between the decision and the movement than voluntary actions (initiated by an internal urge).\n",
        "+ He also hypothesized that involuntary actions would not be preceded by a readiness potential, unlike voluntary actions.\n"
      ],
      "metadata": {
        "id": "jrw5-kXda267"
      }
    },
    {
      "cell_type": "markdown",
      "source": [
        "## Q3.\n",
        "#### **In this article's design, it has applied differences with Libet, some of which are inevitable and others due to reason. Mention at least 3 of the most important differences along with why?**\n",
        "\n",
        "> **Some of the most important differences between this article’s design and Libet’s original design are as follows:**\n",
        "+ The article's design applied differences with Libet's original design, some of which were inevitable due to technical limitations or practical considerations. For example, the sample size was increased from 6 to 8 participants, and the training sessions were modified to include a supplementary W series. Other differences were intentional, such as the use of a tactile stimulator instead of EMG recording for the S series, and the introduction of a new label \"Supplementary session\" for sessions with the P and Pv series.\n",
        "+ The authors used a digital clock instead of an analog one, which allowed them to measure the reported times more precisely and avoid errors due to interpolation or extrapolation.\n",
        "+ The authors used a different skin stimulus (a brief electrical shock) instead of a tactile stimulus (a light touch), which increased the salience and reliability of the stimulus.\n",
        "+ The authors used different criteria for selecting valid trials, such as excluding trials with multiple movements or with movements before or after the stimulus. They also used different methods for calculating averages and standard deviations, such as using median instead of mean or using bootstrapping instead of normal distribution."
      ],
      "metadata": {
        "id": "7UxP2A80b6VE"
      }
    },
    {
      "cell_type": "markdown",
      "source": [
        "## Q4.\n",
        "#### **What is the meaning of grand average in EEG signal calculation? Specifically, state on what items averaging is done?**\n",
        "\n",
        "> Grand average in EEG signal calculation refers to the averaging of EEG signals across multiple trials or participants to obtain a more reliable and representative signal. In this article, grand averages were calculated for each series type (P, S, W, M, and Pv) by plotting the mean courses of activation based on all valid trials in respective series regardless of the session, but with respect to the electrode. The averaging was done on the EEG waveform in the interval to ms in the W, −2500 −1500 M and S series and to ms in the P and Pv series. A baseline was calculated for each plot as an average of the EEG waveform, and a window 50 ms wide started with its right edge aligned with the find −300. The averaged data line plots were used to represent the mean course of activation on a given electrode before and after the reference point.\n"
      ],
      "metadata": {
        "id": "Ht9ZKCo-hmCV"
      }
    },
    {
      "cell_type": "markdown",
      "source": [
        "## Q6.\n",
        "#### **What does RP mean in the definition of libet? How to recognize the onset of RP on EEG charts?**\n",
        "\n",
        "> + RP stands for readiness potential, which is a negative electrical potential that occurs in the brain before a voluntary movement is made. In the context of Libet's experiment, the RP was used as a neural precursor of a decision to move.\n",
        "+ To identify the onset of RP on EEG charts, two methods were used in this study: the MN (main negative) method and the RP method. The MN method consists of an eye-ball inspection of each series, while the RP method uses a calculation of the area under the RP curve preceding the reference point. The RP onset was placed to the lower limit of 90% portion of the area, calculated from positive to negative, starting from the reference point. The algorithm used a window of constant size, which was more precise than Libet's original calculation. Three researchers also assessed the RP types (I, II or III) based on their shape and onset."
      ],
      "metadata": {
        "id": "aueke8gKiCUD"
      }
    },
    {
      "cell_type": "markdown",
      "source": [
        "## Q7.\n",
        "#### **What is meant by ERP and P300 Wave? Do not limit yourself to the text of the article to find the right answer and start searching.**\n",
        "\n",
        "> + ERP stands for Event-Related Potential, which is a measure of the electrical activity in the brain that is time-locked to a specific event, such as a sensory stimulus or a motor response. ERPs are obtained by averaging the EEG signal across multiple trials, with each trial representing a single presentation of the event.\n",
        "+ P300 wave is a type of ERP that is typically elicited by an oddball task, in which a rare target stimulus is presented among more frequent non-target stimuli. The P300 wave is a positive deflection in the EEG signal that occurs approximately 300 milliseconds after the presentation of the target stimulus. It is thought to reflect cognitive processes related to attention, memory, and decision-making.\n",
        "+ The P300 wave has been extensively studied in cognitive neuroscience and has been found to be sensitive to a variety of factors, including task difficulty, stimulus probability, and individual differences in cognitive abilities. It has been used as a biomarker for a range of neurological and psychiatric disorders, including Alzheimer's disease, schizophrenia, and depression.\n",
        "\n",
        "> + ERP stands for event-related potential, which is a measure of the brain’s electrical activity in response to a specific stimulus or event. P300 wave is a type of ERP that occurs about 300 ms after a rare or unexpected stimulus, and reflects the process of attention and memory updating."
      ],
      "metadata": {
        "id": "CcwzKQdNlKmG"
      }
    },
    {
      "cell_type": "markdown",
      "source": [
        "## Q9.\n",
        "#### **A simple question, what is Libet's clear message from his experiments? In what order does Libet state the timing of people's acceptance of movement in M and W series and the beginning of RP and what results does he get? What about the series where a person can cancel (veto) the movement of his hand?**\n",
        "\n",
        "> + Libet's clear message from his experiments is that the conscious awareness of wanting to move occurs after the onset of the RP, suggesting that the decision to move is made unconsciously before it becomes conscious. This challenges the traditional view of free will, which assumes that conscious intentions precede actions.\n",
        "+ In the M series, participants reported the subjective impression of the actual initiation of the movement, while in the W series, participants reported when they first realized the urge to move. The RP onset generally preceded both the M and W reports acquired by the rotating-spot method.\n",
        "+ In the series where a person can cancel (veto) the movement of their hand, Libet found that the conscious veto can actually be considered an instrument allowing us to exert free will, because it can provide a way to block unconsciously initiated movements. However, the timing of the veto also occurred after the onset of the RP, suggesting that the veto is also an unconscious process.\n",
        "\n",
        "> + Libet’s clear message from his experiments was that our conscious will and subsequent actions are caused by prior neural activity that we are not aware of1. He stated that the timing of people’s acceptance of movement in M and W series was about 200 ms before the movement onset, while the beginning of RP was about 500 ms before the movement onset1. He concluded that the RP reflects the unconscious initiation of the movement, while the conscious will has only a limited role of allowing or vetoing the movement1. In the series where a person can cancel (veto) the movement of his hand, Libet found that the RP was still present but was reduced in amplitude, and that the veto occurred about 100-200 ms before the movement onset.\n",
        "\n",
        "> + According to Libet’s message, this experiment was not able to replicate Libet’s results for all participants. The article reports that there were substantial individual differences in the introspective reports and the number of RPs found2. For example, some participants reported that their urge to move preceded their movement onset (consistent with Libet), while others reported that their urge to move coincided with or followed their movement onset (inconsistent with Libet)2. Similarly, some participants showed clear RPs before their movements (consistent with Libet), while others showed no RPs or RPs after their movements (inconsistent with Libet)2."
      ],
      "metadata": {
        "id": "SM82E66llbZp"
      }
    },
    {
      "cell_type": "markdown",
      "source": [
        "## Q10.\n",
        "#### **According to Libet's message that you mentioned in the previous section, do you think this experiment was able to replicate Libet's results for all participants? Explain and describe for each person separately.**\n",
        "\n",
        "> + The paper does not provide a detailed analysis of the results for each individual participant, but rather presents aggregated data across all participants. Therefore, it is not possible to determine whether the experiment was able to replicate Libet's results for all participants.\n",
        "+ However, the paper does report that the results of the experiment were highly variable and that substantial differences were found in some of the results' categories, such as the introspective reports or the number of readiness-potentials found. This suggests that the replication was not able to fully reproduce Libet's original outcomes.\n",
        "+ Furthermore, the paper highlights some methodological problems with both Libet's methodology and the methodology used by later Libet-style experiments, which may have contributed to the variability in the results. Therefore, it is difficult to draw firm conclusions about the extent to which the experiment was able to replicate Libet's results for each individual participant.\n",
        "\n",
        "> In the design of the article, when the participants believe that they have made their hand movements with a plan, the important times (acknowledgment of the participants in M and W as well as RP in the EEG signal) are different from when they believe that they have made their hand movements spontaneously. The article reports that when the movements were planned, the acknowledgment times in M and W were significantly earlier than when they were spontaneous, and that the RP was significantly larger and longer than when they were spontaneous2. This suggests that planned movements involve more conscious deliberation and neural preparation than spontaneous movements."
      ],
      "metadata": {
        "id": "D8bcqsERlx2g"
      }
    },
    {
      "cell_type": "markdown",
      "source": [
        "## Q11.\n",
        "#### **In the design of the article, after the end of each trial in the M and W series, two questions are asked to the participant to make sure that his hand movement was instantaneous and unplanned. But as stated in the article, in some trials, the participants believe that they have made their hand movements with the program. In this case, what are the important times (acknowledgment of the participants in M and W as well as RP in the EEG signal) compared to the other state?**\n",
        "\n",
        "> + Based on the context provided, it appears that the important times in the M and W series are the EMG onset and the RP onset in the EEG signal. The EMG onset is the moment when the participant's muscle activity begins, which is a measure of the onset of the movement. The RP onset is the moment when the readiness potential is detected in the EEG signal, which is a measure of the neural preparation for the movement.\n",
        "+ In trials where the participant believes that they have made their hand movement with the program, it is likely that the EMG onset and RP onset will occur earlier than in trials where the movement is truly unplanned. This is because the participant may have consciously or unconsciously initiated the movement before they were aware of it, which would be reflected in the earlier onset of the EMG and RP.\n",
        "+ It is important to note that the paper reports that the results of the experiment were highly variable and that substantial differences were found in some of the results' categories, such as the introspective reports or the number of readiness-potentials found. Therefore, the relationship between the important times and the participant's belief about the movement may not be consistent across all trials or participants.\n",
        "\n",
        "> In mode S, no feedback is given to the participant about the quality of his recognition speed because this mode is designed to measure involuntary actions triggered by an external stimulus2. The article explains that giving feedback would introduce an element of volition and evaluation that would interfere with the measurement of involuntary actions2."
      ],
      "metadata": {
        "id": "RrMPyQTRmAtM"
      }
    },
    {
      "cell_type": "markdown",
      "source": [
        "## Q12.\n",
        "#### **In mode S, no feedback is given to the participant about the quality of his recognition speed. what is the reason?**\n",
        "\n",
        "> + The reason why no feedback is given to the participant about the quality of their recognition speed in mode S is explained in the paper. The authors decided not to provide feedback to the participants in the S series because providing feedback would require them to tell the participants how accurate they were, which could influence the results of the experiment. Additionally, the authors note that providing feedback on how accurate the participant is in every S series throughout the experiment will certainly change the results leading to large inconsistencies in data obtained in the few sessions compared to data acquired in the last sessions. Therefore, to avoid these potential issues, the authors chose not to provide feedback to the participants in the S series.\n",
        "\n",
        "> In the article, the movement is done by clicking a mouse button with the right index finger, while in Libet’s original experiment, the movement was done by flexing a finger or wrist1. The article states that they chose this way because it was easier to measure and record than flexing a finger or wrist2. The advantages of clicking a mouse button are that it is more precise, reliable, and consistent than flexing a finger or wrist, and that it allows for better synchronization with other devices such as EEG and EMG. The disadvantages of clicking a mouse button are that it may not be as natural, spontaneous, and variable as flexing a finger or wrist, and that it may involve more muscles and brain regions than flexing a finger or wrist. In Libet’s experiment, the movement was formed by flexing a finger or wrist because it was more simple, natural, and representative of voluntary actions than clicking a mouse button1. The main advantage of flexing a finger or wrist was that it minimized the involvement of external factors and focused on the internal processes of volition1."
      ],
      "metadata": {
        "id": "ri-i3ZfinKGi"
      }
    },
    {
      "cell_type": "markdown",
      "source": [
        "## Q13.\n",
        "#### **How to move in the article is done by clicking the mouse, if this was not the case in the Libet test. Why did the designers in the article choose this way? What are the advantages and disadvantages of clicking the mouse? How was movement formed in the Libet experiment and what was its main advantage?**\n",
        "\n",
        "> + In the article, movement is done by clicking the mouse because the technical setup used in the experiment did not allow the researchers to control the computer using EMG activation, which was used in the original Libet experiment. Therefore, the researchers chose to use a mouse click as a substitute for the EMG activation.\n",
        "+ The advantages of using a mouse click are that it provides a better-bounded movement that is more suitable for Libet's task, and it is easier to control and measure than a larger movement of the wrist. Additionally, the mouse click is a more abrupt and better-bounded movement than a wrist movement, which makes it easier for participants to determine the timing of their movement.\n",
        "+ However, there are also some disadvantages to using a mouse click. First, the click produces an auditory feedback, which might shift the introspective reports. Second, the mouse still provides a slight haptic feedback when pressed, which might raise the question of whether the participants relate their reports to the EMG onset or the mouse click. Finally, because the movement is small, it can be difficult to register the EMG onset if the participant does not conduct the movement rapidly enough or if the electrodes are not attached precisely.\n",
        "+ In the original Libet experiment, movement was formed by the participant making a movement of their wrist or flexion of their fingers. The main advantage of this movement was that it allowed for the measurement of EMG activity, which provided a more direct measure of the onset of the movement. However, the larger movement of the wrist or fingers may have been less well-bounded than the mouse click used in the replication study, which could have introduced more variability in the results."
      ],
      "metadata": {
        "id": "9Lm9H6X3ndSF"
      }
    },
    {
      "cell_type": "code",
      "source": [],
      "metadata": {
        "id": "pz-YioTClvm4"
      },
      "execution_count": null,
      "outputs": []
    }
  ]
}